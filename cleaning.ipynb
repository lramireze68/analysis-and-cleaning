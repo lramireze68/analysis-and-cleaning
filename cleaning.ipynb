{
 "cells": [
  {
   "cell_type": "code",
   "execution_count": 2,
   "id": "2f2bd5e0",
   "metadata": {},
   "outputs": [],
   "source": [
    "import pandas as pd"
   ]
  },
  {
   "cell_type": "code",
   "execution_count": 3,
   "id": "dea8853e",
   "metadata": {},
   "outputs": [],
   "source": [
    "data_cleaning = pd.read_csv(\"C:/Users/WALTER/Downloads/Colombianos_registrados_en_el_exterior_20250412.csv\", header=0)"
   ]
  },
  {
   "cell_type": "code",
   "execution_count": 4,
   "id": "f485a6cb",
   "metadata": {},
   "outputs": [
    {
     "data": {
      "text/plain": [
       "(1672255, 17)"
      ]
     },
     "execution_count": 4,
     "metadata": {},
     "output_type": "execute_result"
    }
   ],
   "source": [
    "data_cleaning.shape # devuelve numero de filas y columnas"
   ]
  },
  {
   "cell_type": "code",
   "execution_count": 5,
   "id": "479ec859",
   "metadata": {},
   "outputs": [
    {
     "name": "stdout",
     "output_type": "stream",
     "text": [
      "<class 'pandas.core.frame.DataFrame'>\n",
      "RangeIndex: 1672255 entries, 0 to 1672254\n",
      "Data columns (total 17 columns):\n",
      " #   Column                 Non-Null Count    Dtype \n",
      "---  ------                 --------------    ----- \n",
      " 0   País                   1672255 non-null  object\n",
      " 1   Código ISO país        1672255 non-null  object\n",
      " 2   Ciudad de Residencia   1672255 non-null  object\n",
      " 3   Oficina de registro    1672255 non-null  object\n",
      " 4   Grupo edad             1672255 non-null  object\n",
      " 5   Edad (años)            1672255 non-null  int64 \n",
      " 6   Área Conocimiento      1672255 non-null  object\n",
      " 7   Sub Area Conocimiento  1672255 non-null  object\n",
      " 8   Nivel Académico        1672255 non-null  object\n",
      " 9   Estado civil           1672255 non-null  object\n",
      " 10  Género                 1672255 non-null  object\n",
      " 11  Etnia de la persona    1672255 non-null  object\n",
      " 12  Estatura (CM)          1672255 non-null  int64 \n",
      " 13  Ciudad de Nacimiento   1672255 non-null  object\n",
      " 14  Localización           1672255 non-null  object\n",
      " 15  Fecha de Registro      1672255 non-null  object\n",
      " 16  Cantidad de personas   1672255 non-null  int64 \n",
      "dtypes: int64(3), object(14)\n",
      "memory usage: 216.9+ MB\n"
     ]
    }
   ],
   "source": [
    "data_cleaning.info() #informacion acerca de la base de datos"
   ]
  },
  {
   "cell_type": "code",
   "execution_count": 16,
   "id": "f75a5054",
   "metadata": {},
   "outputs": [],
   "source": [
    "data_cleaning_removecolumns = data_cleaning.drop(columns=[\"Código ISO país\", \"Oficina de registro\", \"Localización\", \"Cantidad de personas\", \"Fecha de Registro\"]) #se eliminan las columnas que no se requieren"
   ]
  },
  {
   "cell_type": "code",
   "execution_count": 17,
   "id": "3336ddb3",
   "metadata": {},
   "outputs": [
    {
     "name": "stdout",
     "output_type": "stream",
     "text": [
      "<class 'pandas.core.frame.DataFrame'>\n",
      "RangeIndex: 1672255 entries, 0 to 1672254\n",
      "Data columns (total 12 columns):\n",
      " #   Column                 Non-Null Count    Dtype \n",
      "---  ------                 --------------    ----- \n",
      " 0   País                   1672255 non-null  object\n",
      " 1   Ciudad de Residencia   1672255 non-null  object\n",
      " 2   Grupo edad             1672255 non-null  object\n",
      " 3   Edad (años)            1672255 non-null  int64 \n",
      " 4   Área Conocimiento      1672255 non-null  object\n",
      " 5   Sub Area Conocimiento  1672255 non-null  object\n",
      " 6   Nivel Académico        1672255 non-null  object\n",
      " 7   Estado civil           1672255 non-null  object\n",
      " 8   Género                 1672255 non-null  object\n",
      " 9   Etnia de la persona    1672255 non-null  object\n",
      " 10  Estatura (CM)          1672255 non-null  int64 \n",
      " 11  Ciudad de Nacimiento   1672255 non-null  object\n",
      "dtypes: int64(2), object(10)\n",
      "memory usage: 153.1+ MB\n"
     ]
    }
   ],
   "source": [
    "data_cleaning_removecolumns.info() #se remueven las columnas que no se van a tomar en cuenta dentro del analisis"
   ]
  },
  {
   "cell_type": "code",
   "execution_count": null,
   "id": "67a2918a",
   "metadata": {},
   "outputs": [],
   "source": [
    "#se cambia los nombres de las columnas para facilitar su posterior manejo\n",
    "data_cleaning_removecolumns.rename(columns={\"Ciudad de Residencia\":\"Ciudad_de_Residencia\"}, inplace=True)\n",
    "data_cleaning_removecolumns.rename(columns={\"Grupo edad\":\"Grupo_edad\"}, inplace=True)\n",
    "data_cleaning_removecolumns.rename(columns={\"Edad (años)\":\"Edad\"}, inplace=True)\n",
    "data_cleaning_removecolumns.rename(columns={\"Área Conocimiento\":\"Área_Conocimiento\"}, inplace=True)\n",
    "data_cleaning_removecolumns.rename(columns={\"Sub Area Conocimiento\":\"Sub_Area_Conocimiento\"}, inplace=True)\n",
    "data_cleaning_removecolumns.rename(columns={\"Nivel Académico\":\"Nivel_Académico\"}, inplace=True)\n",
    "data_cleaning_removecolumns.rename(columns={\"Estado civil\":\"Estado_civil\"}, inplace=True)\n",
    "data_cleaning_removecolumns.rename(columns={\"Etnia de la persona\":\"Etnia_de_la_persona\"}, inplace=True)\n",
    "data_cleaning_removecolumns.rename(columns={\"Estatura (CM)\":\"Estatura\"}, inplace=True)\n",
    "data_cleaning_removecolumns.rename(columns={\"Ciudad de Nacimiento\":\"Ciudad_de_Nacimiento\"}, inplace=True)"
   ]
  },
  {
   "cell_type": "code",
   "execution_count": null,
   "id": "95472028",
   "metadata": {},
   "outputs": [
    {
     "name": "stdout",
     "output_type": "stream",
     "text": [
      "<class 'pandas.core.frame.DataFrame'>\n",
      "RangeIndex: 1672255 entries, 0 to 1672254\n",
      "Data columns (total 12 columns):\n",
      " #   Column                 Non-Null Count    Dtype \n",
      "---  ------                 --------------    ----- \n",
      " 0   País                   1672255 non-null  string\n",
      " 1   Ciudad_de_Residencia   1672255 non-null  string\n",
      " 2   Grupo_edad             1672255 non-null  string\n",
      " 3   Edad                   1672255 non-null  int64 \n",
      " 4   Área_Conocimiento      1672255 non-null  string\n",
      " 5   Sub_Area_Conocimiento  1672255 non-null  string\n",
      " 6   Nivel_Académico        1672255 non-null  string\n",
      " 7   Estado_civil           1672255 non-null  string\n",
      " 8   Género                 1672255 non-null  string\n",
      " 9   Etnia_de_la_persona    1672255 non-null  string\n",
      " 10  Estatura               1672255 non-null  int64 \n",
      " 11  Ciudad_de_Nacimiento   1672255 non-null  string\n",
      "dtypes: int64(2), string(10)\n",
      "memory usage: 153.1 MB\n"
     ]
    }
   ],
   "source": [
    "data_cleaning_removecolumns.info() #se valida que se haya hecho el cambio de nombre de manera correcta"
   ]
  },
  {
   "cell_type": "code",
   "execution_count": 18,
   "id": "2912932f",
   "metadata": {},
   "outputs": [],
   "source": [
    "data_cleaning_removecolumns.dropna(inplace=True) #se eliminan filas con valores nulos"
   ]
  },
  {
   "cell_type": "code",
   "execution_count": 45,
   "id": "1326b95b",
   "metadata": {},
   "outputs": [
    {
     "data": {
      "text/plain": [
       "(1672255, 12)"
      ]
     },
     "execution_count": 45,
     "metadata": {},
     "output_type": "execute_result"
    }
   ],
   "source": [
    "data_cleaning_removecolumns.shape #se valida las dimensiones nuevamente"
   ]
  },
  {
   "cell_type": "code",
   "execution_count": 46,
   "id": "0f7e8764",
   "metadata": {},
   "outputs": [
    {
     "data": {
      "text/plain": [
       "0"
      ]
     },
     "execution_count": 46,
     "metadata": {},
     "output_type": "execute_result"
    }
   ],
   "source": [
    "rows_before = data_cleaning.shape[0] #se valida si hubo cambios en el numero de filas al borrar las que tenian valores nulos\n",
    "rows_after = data_cleaning_removecolumns.shape[0]\n",
    "rows_before - rows_after"
   ]
  },
  {
   "cell_type": "code",
   "execution_count": 47,
   "id": "45800b9f",
   "metadata": {},
   "outputs": [
    {
     "name": "stdout",
     "output_type": "stream",
     "text": [
      "<class 'pandas.core.frame.DataFrame'>\n",
      "RangeIndex: 1672255 entries, 0 to 1672254\n",
      "Data columns (total 12 columns):\n",
      " #   Column                 Non-Null Count    Dtype \n",
      "---  ------                 --------------    ----- \n",
      " 0   País                   1672255 non-null  string\n",
      " 1   Ciudad_de_Residencia   1672255 non-null  string\n",
      " 2   Grupo_edad             1672255 non-null  string\n",
      " 3   Edad                   1672255 non-null  int64 \n",
      " 4   Área_Conocimiento      1672255 non-null  string\n",
      " 5   Sub_Area_Conocimiento  1672255 non-null  string\n",
      " 6   Nivel_Académico        1672255 non-null  string\n",
      " 7   Estado_civil           1672255 non-null  string\n",
      " 8   Género                 1672255 non-null  string\n",
      " 9   Etnia_de_la_persona    1672255 non-null  string\n",
      " 10  Estatura               1672255 non-null  int64 \n",
      " 11  Ciudad_de_Nacimiento   1672255 non-null  string\n",
      "dtypes: int64(2), string(10)\n",
      "memory usage: 153.1 MB\n"
     ]
    }
   ],
   "source": [
    "data_cleaning_removecolumns.info() #sigue siendo igual debido a que no se removieron filas"
   ]
  },
  {
   "cell_type": "code",
   "execution_count": 49,
   "id": "6e2fb566",
   "metadata": {},
   "outputs": [],
   "source": [
    "#se cambia el tipo de dato segun corresponda\n",
    "data_cleaning_removecolumns[\"Edad\"] = data_cleaning_removecolumns[\"Edad\"].astype(\"int\")\n",
    "data_cleaning_removecolumns[\"País\"]= data_cleaning_removecolumns[\"País\"].astype(\"string\")\n",
    "data_cleaning_removecolumns[\"Ciudad_de_Residencia\"]= data_cleaning_removecolumns[\"Ciudad_de_Residencia\"].astype(\"string\")\n",
    "data_cleaning_removecolumns[\"Grupo_edad\"]= data_cleaning_removecolumns[\"Grupo_edad\"].astype(\"string\")\n",
    "data_cleaning_removecolumns[\"Área_Conocimiento\"]= data_cleaning_removecolumns[\"Área_Conocimiento\"].astype(\"string\")\n",
    "data_cleaning_removecolumns[\"Sub_Area_Conocimiento\"]= data_cleaning_removecolumns[\"Sub_Area_Conocimiento\"].astype(\"string\")\n",
    "data_cleaning_removecolumns[\"Nivel_Académico\"]= data_cleaning_removecolumns[\"Nivel_Académico\"].astype(\"string\")\n",
    "data_cleaning_removecolumns[\"Estado_civil\"]= data_cleaning_removecolumns[\"Estado_civil\"].astype(\"string\")\n",
    "data_cleaning_removecolumns[\"Género\"]= data_cleaning_removecolumns[\"Género\"].astype(\"string\")\n",
    "data_cleaning_removecolumns[\"Etnia_de_la_persona\"]= data_cleaning_removecolumns[\"Etnia_de_la_persona\"].astype(\"string\")\n",
    "data_cleaning_removecolumns[\"Ciudad_de_Nacimiento\"]= data_cleaning_removecolumns[\"Ciudad_de_Nacimiento\"].astype(\"string\")"
   ]
  },
  {
   "cell_type": "code",
   "execution_count": 50,
   "id": "344ff1e7",
   "metadata": {},
   "outputs": [
    {
     "name": "stdout",
     "output_type": "stream",
     "text": [
      "<class 'pandas.core.frame.DataFrame'>\n",
      "RangeIndex: 1672255 entries, 0 to 1672254\n",
      "Data columns (total 12 columns):\n",
      " #   Column                 Non-Null Count    Dtype \n",
      "---  ------                 --------------    ----- \n",
      " 0   País                   1672255 non-null  string\n",
      " 1   Ciudad_de_Residencia   1672255 non-null  string\n",
      " 2   Grupo_edad             1672255 non-null  string\n",
      " 3   Edad                   1672255 non-null  int64 \n",
      " 4   Área_Conocimiento      1672255 non-null  string\n",
      " 5   Sub_Area_Conocimiento  1672255 non-null  string\n",
      " 6   Nivel_Académico        1672255 non-null  string\n",
      " 7   Estado_civil           1672255 non-null  string\n",
      " 8   Género                 1672255 non-null  string\n",
      " 9   Etnia_de_la_persona    1672255 non-null  string\n",
      " 10  Estatura               1672255 non-null  int64 \n",
      " 11  Ciudad_de_Nacimiento   1672255 non-null  string\n",
      "dtypes: int64(2), string(10)\n",
      "memory usage: 153.1 MB\n"
     ]
    }
   ],
   "source": [
    "data_cleaning_removecolumns.info() #se confirma que se haya cambiado correctamento el tipo de dato al validar la informacion de la base de datos"
   ]
  },
  {
   "cell_type": "code",
   "execution_count": 51,
   "id": "b0621961",
   "metadata": {},
   "outputs": [
    {
     "data": {
      "text/plain": [
       "<StringArray>\n",
       "[     'ADOLESCENTE',      'DESCONOCIDO',           'ADULTO',\n",
       "     'ADULTO JOVEN',     'ADULTO MAYOR',          'INFANTE',\n",
       " 'PRIMERA INFANCIA']\n",
       "Length: 7, dtype: string"
      ]
     },
     "execution_count": 51,
     "metadata": {},
     "output_type": "execute_result"
    }
   ],
   "source": [
    "data_cleaning_removecolumns[\"Grupo_edad\"].unique() #se valida la categoria del grupo edad para evidenciar posibles errores en sus nombres y de ser asi reemplazarlos"
   ]
  },
  {
   "cell_type": "code",
   "execution_count": null,
   "id": "a2248b32",
   "metadata": {},
   "outputs": [
    {
     "data": {
      "text/plain": [
       "<StringArray>\n",
       "['MASCULINO', 'FEMENINO', 'DESCONOCIDO', 'NO_BINARIO']\n",
       "Length: 4, dtype: string"
      ]
     },
     "execution_count": 52,
     "metadata": {},
     "output_type": "execute_result"
    }
   ],
   "source": [
    "data_cleaning_removecolumns[\"Género\"].unique() #se valida la categoria de genero para evidenciar posibles errores en sus nombres y de ser asi reemplazarlos"
   ]
  },
  {
   "cell_type": "code",
   "execution_count": null,
   "id": "6f0ed583",
   "metadata": {},
   "outputs": [
    {
     "data": {
      "text/plain": [
       "<StringArray>\n",
       "[             'SOLTERO',          'DESCONOCIDO',          'UNION_LIBRE',\n",
       "               'CASADO',           'DIVORCIADO',  'SEPARADO_MATRIMONIO',\n",
       "                'VIUDO', 'SEPARADO_UNION_LIBRE']\n",
       "Length: 8, dtype: string"
      ]
     },
     "execution_count": 53,
     "metadata": {},
     "output_type": "execute_result"
    }
   ],
   "source": [
    "data_cleaning_removecolumns[\"Estado_civil\"].unique() #se valida la categoria de estado civil para evidenciar posibles errores en sus nombres y de ser asi reemplazarlos"
   ]
  },
  {
   "cell_type": "code",
   "execution_count": null,
   "id": "1257ab56",
   "metadata": {},
   "outputs": [],
   "source": []
  },
  {
   "cell_type": "code",
   "execution_count": 108,
   "id": "d7010821",
   "metadata": {},
   "outputs": [
    {
     "data": {
      "text/plain": [
       "<StringArray>\n",
       "[                              'NINGUNA',\n",
       "                  'SIN ETNIA REGISTRADA',\n",
       "                                  'OTRO',\n",
       "                              'INDIGENA',\n",
       "                      'AFRODESCENDIENTE',\n",
       " 'RAIZAL DEL ARCHIPIELAGO DE SAN ANDRES',\n",
       "             'PALENQUERO DE SAN BASILIO',\n",
       "                                'GITANO']\n",
       "Length: 8, dtype: string"
      ]
     },
     "execution_count": 108,
     "metadata": {},
     "output_type": "execute_result"
    }
   ],
   "source": [
    "data_cleaning_removecolumns[\"Etnia_de_la_persona\"].unique() #se valida la categoria de etnia de la persona para evidenciar posibles errores en sus nombres y de ser asi reemplazarlos"
   ]
  },
  {
   "cell_type": "code",
   "execution_count": null,
   "id": "60db53fc",
   "metadata": {},
   "outputs": [],
   "source": [
    "#Se cambia IND�GENA por INDIGENA ya que representa un error\n",
    "data_cleaning_removecolumns.Etnia_de_la_persona = data_cleaning_removecolumns.Etnia_de_la_persona.replace(\"IND�GENA\", \"INDIGENA\")"
   ]
  },
  {
   "cell_type": "code",
   "execution_count": null,
   "id": "8aff369f",
   "metadata": {},
   "outputs": [
    {
     "data": {
      "text/plain": [
       "<StringArray>\n",
       "[                              'NINGUNA',\n",
       "                  'SIN ETNIA REGISTRADA',\n",
       "                                  'OTRO',\n",
       "                              'INDIGENA',\n",
       "                      'AFRODESCENDIENTE',\n",
       " 'RAIZAL DEL ARCHIPIELAGO DE SAN ANDRES',\n",
       "             'PALENQUERO DE SAN BASILIO',\n",
       "                                'GITANO']\n",
       "Length: 8, dtype: string"
      ]
     },
     "execution_count": 107,
     "metadata": {},
     "output_type": "execute_result"
    }
   ],
   "source": [
    "# se valida que se efectuo el cambio de nombre\n",
    "data_cleaning_removecolumns[\"Etnia_de_la_persona\"].unique()"
   ]
  },
  {
   "cell_type": "code",
   "execution_count": 109,
   "id": "fe65312e",
   "metadata": {},
   "outputs": [],
   "source": [
    "# remover duplicados\n",
    "data_cleaning_removecolumns.drop_duplicates(subset=None, keep= \"first\",inplace=True)"
   ]
  },
  {
   "cell_type": "code",
   "execution_count": 110,
   "id": "85f0f376",
   "metadata": {},
   "outputs": [
    {
     "data": {
      "text/plain": [
       "(1593616, 12)"
      ]
     },
     "execution_count": 110,
     "metadata": {},
     "output_type": "execute_result"
    }
   ],
   "source": [
    "data_cleaning_removecolumns.shape"
   ]
  },
  {
   "cell_type": "code",
   "execution_count": 111,
   "id": "a544ea65",
   "metadata": {},
   "outputs": [
    {
     "name": "stdout",
     "output_type": "stream",
     "text": [
      "<class 'pandas.core.frame.DataFrame'>\n",
      "Index: 1593616 entries, 0 to 1672253\n",
      "Data columns (total 12 columns):\n",
      " #   Column                 Non-Null Count    Dtype \n",
      "---  ------                 --------------    ----- \n",
      " 0   País                   1593616 non-null  string\n",
      " 1   Ciudad_de_Residencia   1593616 non-null  string\n",
      " 2   Grupo_edad             1593616 non-null  string\n",
      " 3   Edad                   1593616 non-null  int64 \n",
      " 4   Área_Conocimiento      1593616 non-null  string\n",
      " 5   Sub_Area_Conocimiento  1593616 non-null  string\n",
      " 6   Nivel_Académico        1593616 non-null  string\n",
      " 7   Estado_civil           1593616 non-null  string\n",
      " 8   Género                 1593616 non-null  string\n",
      " 9   Etnia_de_la_persona    1593616 non-null  string\n",
      " 10  Estatura               1593616 non-null  int64 \n",
      " 11  Ciudad_de_Nacimiento   1593616 non-null  string\n",
      "dtypes: int64(2), string(10)\n",
      "memory usage: 158.1 MB\n"
     ]
    }
   ],
   "source": [
    "data_cleaning_removecolumns.info()"
   ]
  },
  {
   "cell_type": "code",
   "execution_count": 112,
   "id": "6258c7c7",
   "metadata": {},
   "outputs": [
    {
     "name": "stdout",
     "output_type": "stream",
     "text": [
      "\n",
      "El archivo CSV ha sido guardado\n"
     ]
    }
   ],
   "source": [
    "data_cleaning_removecolumns.to_csv(\"Colombianos_registrados_en_el_exterior\", index=False)\n",
    "print(\"\\nEl archivo CSV ha sido guardado\")"
   ]
  }
 ],
 "metadata": {
  "kernelspec": {
   "display_name": "Python 3",
   "language": "python",
   "name": "python3"
  },
  "language_info": {
   "codemirror_mode": {
    "name": "ipython",
    "version": 3
   },
   "file_extension": ".py",
   "mimetype": "text/x-python",
   "name": "python",
   "nbconvert_exporter": "python",
   "pygments_lexer": "ipython3",
   "version": "3.13.3"
  }
 },
 "nbformat": 4,
 "nbformat_minor": 5
}
